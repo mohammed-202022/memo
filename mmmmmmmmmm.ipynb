{
 "cells": [
  {
   "cell_type": "code",
   "execution_count": 1,
   "id": "294914cd",
   "metadata": {
    "_cell_guid": "b1076dfc-b9ad-4769-8c92-a6c4dae69d19",
    "_uuid": "8f2839f25d086af736a60e9eeb907d3b93b6e0e5",
    "execution": {
     "iopub.execute_input": "2023-03-22T17:46:13.170004Z",
     "iopub.status.busy": "2023-03-22T17:46:13.169222Z",
     "iopub.status.idle": "2023-03-22T17:46:13.198011Z",
     "shell.execute_reply": "2023-03-22T17:46:13.197166Z"
    },
    "papermill": {
     "duration": 0.037009,
     "end_time": "2023-03-22T17:46:13.201591",
     "exception": false,
     "start_time": "2023-03-22T17:46:13.164582",
     "status": "completed"
    },
    "tags": []
   },
   "outputs": [
    {
     "name": "stdout",
     "output_type": "stream",
     "text": [
      "/kaggle/input/transformer10bert8/encoder_weights.h5\n",
      "/kaggle/input/transformer10bert8/original_annotations.p\n",
      "/kaggle/input/transformer10bert8/__notebook_source__.ipynb\n",
      "/kaggle/input/transformer10bert8/bert_tokenizer.p\n",
      "/kaggle/input/transformer10bert8/masked_annotations.p\n",
      "/kaggle/input/transformer10bert8/decoder_weights.h5\n",
      "/kaggle/input/transformer10bert8/My_Bert_model/config.json\n",
      "/kaggle/input/transformer10bert8/My_Bert_model/tf_model.h5\n"
     ]
    }
   ],
   "source": [
    "# This Python 3 environment comes with many helpful analytics libraries installed\n",
    "# It is defined by the kaggle/python Docker image: https://github.com/kaggle/docker-python\n",
    "# For example, here's several helpful packages to load\n",
    "\n",
    "import numpy as np # linear algebra\n",
    "import pandas as pd # data processing, CSV file I/O (e.g. pd.read_csv)\n",
    "\n",
    "# Input data files are available in the read-only \"../input/\" directory\n",
    "# For example, running this (by clicking run or pressing Shift+Enter) will list all files under the input directory\n",
    "\n",
    "import os\n",
    "for dirname, _, filenames in os.walk('/kaggle/input'):\n",
    "    for filename in filenames:\n",
    "        print(os.path.join(dirname, filename))\n",
    "\n",
    "# You can write up to 20GB to the current directory (/kaggle/working/) that gets preserved as output when you create a version using \"Save & Run All\" \n",
    "# You can also write temporary files to /kaggle/temp/, but they won't be saved outside of the current session"
   ]
  }
 ],
 "metadata": {
  "kernelspec": {
   "display_name": "Python 3",
   "language": "python",
   "name": "python3"
  },
  "language_info": {
   "codemirror_mode": {
    "name": "ipython",
    "version": 3
   },
   "file_extension": ".py",
   "mimetype": "text/x-python",
   "name": "python",
   "nbconvert_exporter": "python",
   "pygments_lexer": "ipython3",
   "version": "3.7.12"
  },
  "papermill": {
   "default_parameters": {},
   "duration": 10.657028,
   "end_time": "2023-03-22T17:46:13.825357",
   "environment_variables": {},
   "exception": null,
   "input_path": "__notebook__.ipynb",
   "output_path": "__notebook__.ipynb",
   "parameters": {},
   "start_time": "2023-03-22T17:46:03.168329",
   "version": "2.4.0"
  }
 },
 "nbformat": 4,
 "nbformat_minor": 5
}
